{
 "cells": [
  {
   "cell_type": "code",
   "execution_count": 1,
   "id": "6751dae7-4f17-4d4f-9b36-cc57915806d7",
   "metadata": {},
   "outputs": [
    {
     "name": "stdout",
     "output_type": "stream",
     "text": [
      "Collecting pytube\n",
      "  Using cached pytube-15.0.0-py3-none-any.whl.metadata (5.0 kB)\n",
      "Using cached pytube-15.0.0-py3-none-any.whl (57 kB)\n",
      "Installing collected packages: pytube\n",
      "Successfully installed pytube-15.0.0\n"
     ]
    }
   ],
   "source": [
    "!pip install pytube"
   ]
  },
  {
   "cell_type": "code",
   "execution_count": 1,
   "id": "e9d03366-a86b-402e-856e-082c74e41620",
   "metadata": {},
   "outputs": [],
   "source": [
    "from indexify import IndexifyClient, ExtractionGraph\n",
    "client = IndexifyClient()"
   ]
  },
  {
   "cell_type": "code",
   "execution_count": 3,
   "id": "e9882f22-2bec-49cc-a72a-94b5b6786544",
   "metadata": {},
   "outputs": [],
   "source": [
    "extraction_graph_spec = \"\"\"\n",
    "name: 'video-knowledgebase'\n",
    "extraction_policies:\n",
    "   - extractor: 'tensorlake/audio-extractor'\n",
    "     name: 'audio_clips'\n",
    "   - extractor: 'tensorlake/whisper-asr'\n",
    "     name: 'transcription'\n",
    "     content_source: 'audio_clips'\n",
    "   - extractor: 'tensorlake/chunk-extractor'\n",
    "     name: 'transcription_chunks'\n",
    "     input_params:\n",
    "        chunk_size: 1000\n",
    "        overlap: 250\n",
    "     content_source: 'transcription'\n",
    "   - extractor: 'tensorlake/minilm-l6'\n",
    "     name: 'transcription-embedding'\n",
    "     content_source: 'transcription_chunks'\n",
    "\"\"\"\n",
    "\n",
    "extraction_graph = ExtractionGraph.from_yaml(extraction_graph_spec)\n",
    "client.create_extraction_graph(extraction_graph)                                            "
   ]
  },
  {
   "cell_type": "code",
   "execution_count": 2,
   "id": "c3197573-7d6a-4741-82fc-4ba9fd15674a",
   "metadata": {},
   "outputs": [],
   "source": [
    "from pytube import YouTube\n",
    "import os\n",
    "yt = YouTube(\"https://www.youtube.com/watch?v=cplSUhU2avc\")\n",
    "file_name = \"state_of_the_union_2024.mp4\"\n",
    "if not os.path.exists(file_name):\n",
    "    yt.streams.filter(progressive=True, file_extension='mp4').order_by('resolution').desc().first().download(filename=file_name)"
   ]
  },
  {
   "cell_type": "code",
   "execution_count": 6,
   "id": "a8197d2c-144b-4932-8c93-ae4233ce8e65",
   "metadata": {},
   "outputs": [
    {
     "data": {
      "text/plain": [
       "'c151c4c8d936a6bf'"
      ]
     },
     "execution_count": 6,
     "metadata": {},
     "output_type": "execute_result"
    }
   ],
   "source": [
    "client.upload_file(extraction_graphs=\"video-knowledgebase\", path=\"state_of_the_union.mp4\")       "
   ]
  },
  {
   "cell_type": "code",
   "execution_count": 4,
   "id": "736d511a-991d-43f2-8627-4334ab970a21",
   "metadata": {},
   "outputs": [
    {
     "data": {
      "text/plain": [
       "[Extractor(name=tensorlake/audio-extractor, description=Extract audio from video, input_params={'properties': {}, 'title': 'AudioExtractorConfig', 'type': 'object'}, input_mime_types=['video', 'video/mp4', 'video/mov', 'video/avi'], outputs={}),\n",
       " Extractor(name=tensorlake/chunk-extractor, description=Text Chunk Extractor, input_params={'properties': {'chunk_size': {'default': 100, 'title': 'Chunk Size', 'type': 'integer'}, 'headers_to_split_on': {'default': [], 'items': {'type': 'string'}, 'title': 'Headers To Split On', 'type': 'array'}, 'overlap': {'default': 0, 'title': 'Overlap', 'type': 'integer'}, 'text_splitter': {'default': 'recursive', 'enum': ['char', 'recursive', 'markdown', 'html'], 'title': 'Text Splitter', 'type': 'string'}}, 'title': 'ChunkExtractionInputParams', 'type': 'object'}, input_mime_types=['text/plain'], outputs={}),\n",
       " Extractor(name=tensorlake/minilm-l6, description=MiniLM-L6 Sentence Transformer, input_params=None, input_mime_types=['text/plain'], outputs={'embedding': {'embedding': {'dim': 384, 'distance': 'cosine'}}}),\n",
       " Extractor(name=tensorlake/whisper-asr, description=Whisper ASR, input_params={'properties': {'chunk_length': {'default': 30, 'title': 'Chunk Length', 'type': 'integer'}, 'max_new_tokens': {'default': 128, 'title': 'Max New Tokens', 'type': 'integer'}}, 'title': 'InputParams', 'type': 'object'}, input_mime_types=['audio', 'audio/mpeg'], outputs={})]"
      ]
     },
     "execution_count": 4,
     "metadata": {},
     "output_type": "execute_result"
    }
   ],
   "source": [
    "client.extractors()"
   ]
  },
  {
   "cell_type": "code",
   "execution_count": 12,
   "id": "e6c146f9-6863-406f-ac26-70866cc661fb",
   "metadata": {},
   "outputs": [],
   "source": [
    "client.add_extraction_policy(extractor='tensorlake/audio-extractor', name=\"audio_clips_of_videos\")"
   ]
  },
  {
   "cell_type": "code",
   "execution_count": 14,
   "id": "2ee61d2d-1225-4f0b-831e-bd6cd6bc69cf",
   "metadata": {},
   "outputs": [],
   "source": [
    "client.add_extraction_policy(extractor='tensorlake/whisper-asr', name=\"audio-transcription\", content_source='audio_clips_of_videos')"
   ]
  },
  {
   "cell_type": "code",
   "execution_count": 15,
   "id": "7d892e12-1829-4b00-871a-f1e0cff35b81",
   "metadata": {},
   "outputs": [],
   "source": [
    "client.add_extraction_policy(extractor='tensorlake/chunk-extractor', name=\"transcription-chunks\", content_source='audio-transcription')"
   ]
  },
  {
   "cell_type": "code",
   "execution_count": 16,
   "id": "7ee6eaea-9ef9-41c6-be5b-8588c2aaacf4",
   "metadata": {},
   "outputs": [],
   "source": [
    "client.add_extraction_policy(extractor='tensorlake/minilm-l6', name=\"transcription-embedding\", content_source='transcription-chunks', input_params={'chunk_size': 2000, 'overlap': 200})"
   ]
  },
  {
   "cell_type": "code",
   "execution_count": 32,
   "id": "767f0154-ed64-4029-a953-e2f33333b32f",
   "metadata": {},
   "outputs": [],
   "source": [
    "from indexify_langchain import IndexifyRetriever\n",
    "params = {\"name\": \"transcription-embedding.embedding\", \"top_k\": 50}\n",
    "retriever = IndexifyRetriever(client=client, params=params)"
   ]
  },
  {
   "cell_type": "code",
   "execution_count": 33,
   "id": "284e1c0c-30e1-4b25-a3dd-c6edb6b27593",
   "metadata": {},
   "outputs": [],
   "source": [
    "from langchain_core.output_parsers import StrOutputParser\n",
    "from langchain_core.prompts import ChatPromptTemplate\n",
    "from langchain_core.runnables import RunnablePassthrough\n",
    "from langchain_openai import ChatOpenAI"
   ]
  },
  {
   "cell_type": "code",
   "execution_count": 35,
   "id": "125f6d88-015f-4cf5-8c8f-4006f72438cd",
   "metadata": {},
   "outputs": [],
   "source": [
    "template = \"\"\"Answer the question based only on the following context:\n",
    "{context}\n",
    "\n",
    "Question: {question}\n",
    "\"\"\"\n",
    "prompt = ChatPromptTemplate.from_template(template)\n",
    "\n",
    "model = ChatOpenAI()\n",
    "\n",
    "chain = (\n",
    "    {\"context\": retriever, \"question\": RunnablePassthrough()}\n",
    "    | prompt\n",
    "    | model\n",
    "    | StrOutputParser()\n",
    ")\n"
   ]
  },
  {
   "cell_type": "code",
   "execution_count": 38,
   "id": "1447bdf4-b905-4b5a-bdd0-a79f3fa36008",
   "metadata": {},
   "outputs": [
    {
     "data": {
      "text/plain": [
       "'Biden is taking significant action on climate by cutting carbon emissions in half by 2030, creating clean energy jobs, launching the Climate Corps, and working towards environmental justice. He mentions that the world is facing a climate crisis and that all Americans deserve the freedom to be safe. Biden also mentions that America is safer today than when he took office and provides statistics on murder rates and violent crime decreasing.'"
      ]
     },
     "execution_count": 38,
     "metadata": {},
     "output_type": "execute_result"
    }
   ],
   "source": [
    "chain.invoke(\"Whats President Biden doing to save climate and the evidences he provides?\")        "
   ]
  },
  {
   "cell_type": "code",
   "execution_count": null,
   "id": "559cca5d-d8d5-4960-b694-2ac877aba485",
   "metadata": {},
   "outputs": [],
   "source": []
  }
 ],
 "metadata": {
  "kernelspec": {
   "display_name": "Python 3 (ipykernel)",
   "language": "python",
   "name": "python3"
  },
  "language_info": {
   "codemirror_mode": {
    "name": "ipython",
    "version": 3
   },
   "file_extension": ".py",
   "mimetype": "text/x-python",
   "name": "python",
   "nbconvert_exporter": "python",
   "pygments_lexer": "ipython3",
   "version": "3.12.2"
  }
 },
 "nbformat": 4,
 "nbformat_minor": 5
}
