{
 "cells": [
  {
   "cell_type": "code",
   "execution_count": 1,
   "id": "2b6dc1c3-90af-4f53-93a5-07ffb3957ce1",
   "metadata": {},
   "outputs": [],
   "source": [
    "from indexify import IndexifyClient, ExtractionGraph\n",
    "client = IndexifyClient()"
   ]
  },
  {
   "cell_type": "code",
   "execution_count": 43,
   "id": "e6c146f9-6863-406f-ac26-70866cc661fb",
   "metadata": {},
   "outputs": [],
   "source": [
    "extraction_graph_spec = \"\"\"\n",
    "name: 'visualknowledgebase'\n",
    "extraction_policies:\n",
    "   - extractor: 'tensorlake/clip-extractor'\n",
    "     name: 'clipindex'\n",
    "   - extractor: 'tensorlake/yolo-extractor'\n",
    "     name: 'objects'\n",
    "\"\"\"\n",
    "\n",
    "extraction_graph = ExtractionGraph.from_yaml(extraction_graph_spec)\n",
    "client.create_extraction_graph(extraction_graph)                                            "
   ]
  },
  {
   "cell_type": "code",
   "execution_count": 44,
   "id": "a8197d2c-144b-4932-8c93-ae4233ce8e65",
   "metadata": {},
   "outputs": [],
   "source": [
    "file_names=[\"skate.jpg\", \"congestion.jpg\", \"bushwick-bred.jpg\", \"141900.jpg\", \"132500.jpg\", \"123801.jpg\",\"120701.jpg\", \"103701.jpg\"]\n",
    "file_urls = [f\"https://extractor-files.diptanu-6d5.workers.dev/images/{file_name}\" for file_name in file_names]\n",
    "for file_url in file_urls:\n",
    "    client.ingest_remote_file(\"visualknowledgebase\", file_url, \"image/png\", {})"
   ]
  },
  {
   "cell_type": "code",
   "execution_count": 45,
   "id": "a202d8b5-60ae-43e9-9438-f36e1489e35d",
   "metadata": {},
   "outputs": [
    {
     "data": {
      "text/plain": [
       "[{'name': 'visualknowledgebase.clipindex.embedding',\n",
       "  'embedding_schema': {'dim': 512, 'distance': 'cosine'}}]"
      ]
     },
     "execution_count": 45,
     "metadata": {},
     "output_type": "execute_result"
    }
   ],
   "source": [
    "client.indexes()"
   ]
  },
  {
   "cell_type": "code",
   "execution_count": 52,
   "id": "421ce243-03d5-48b6-9214-4238cef63144",
   "metadata": {},
   "outputs": [
    {
     "data": {
      "text/plain": [
       "[{'content_id': 'qTDo0TOXU_Fi6NLZ',\n",
       "  'text': '',\n",
       "  'mime_type': 'image/png',\n",
       "  'confidence_score': 0.7877066,\n",
       "  'labels': {'object_name': '\"\\\\\"traffic light\\\\\"\"',\n",
       "   'bounding_box': '\"[96.36837005615234,73.69854736328125,124.2857894897461,106.82938385009766]\"'},\n",
       "  'root_content_metadata': None,\n",
       "  'content_metadata': {'id': 'qTDo0TOXU_Fi6NLZ',\n",
       "   'parent_id': '',\n",
       "   'root_content_id': '',\n",
       "   'namespace': 'default',\n",
       "   'name': 'https://extractor-files.diptanu-6d5.workers.dev/images/skate.jpg',\n",
       "   'mime_type': 'image/png',\n",
       "   'labels': {},\n",
       "   'extraction_graph_names': ['visualknowledgebase'],\n",
       "   'storage_url': 'https://extractor-files.diptanu-6d5.workers.dev/images/skate.jpg',\n",
       "   'created_at': 1715582929,\n",
       "   'source': '',\n",
       "   'size': 0,\n",
       "   'hash': ''}},\n",
       " {'content_id': 'zKCcbAMqyO1qkULJ',\n",
       "  'text': '',\n",
       "  'mime_type': 'image/png',\n",
       "  'confidence_score': 0.81712943,\n",
       "  'labels': {'bounding_box': '\"[497.01715087890625,308.41412353515625,527.5113525390625,469.8289184570313]\"',\n",
       "   'object_name': '\"\\\\\"person\\\\\"\"'},\n",
       "  'root_content_metadata': None,\n",
       "  'content_metadata': {'id': 'zKCcbAMqyO1qkULJ',\n",
       "   'parent_id': '',\n",
       "   'root_content_id': '',\n",
       "   'namespace': 'default',\n",
       "   'name': 'https://extractor-files.diptanu-6d5.workers.dev/images/bushwick-bred.jpg',\n",
       "   'mime_type': 'image/png',\n",
       "   'labels': {},\n",
       "   'extraction_graph_names': ['visualknowledgebase'],\n",
       "   'storage_url': 'https://extractor-files.diptanu-6d5.workers.dev/images/bushwick-bred.jpg',\n",
       "   'created_at': 1715582929,\n",
       "   'source': '',\n",
       "   'size': 0,\n",
       "   'hash': ''}}]"
      ]
     },
     "execution_count": 52,
     "metadata": {},
     "output_type": "execute_result"
    }
   ],
   "source": [
    "client.search_index(name=\"visualknowledgebase.clipindex.embedding\", query=\"skateboard\", top_k=2)"
   ]
  },
  {
   "cell_type": "code",
   "execution_count": 51,
   "id": "559cca5d-d8d5-4960-b694-2ac877aba485",
   "metadata": {},
   "outputs": [
    {
     "data": {
      "text/plain": [
       "SqlQueryResult(result=[{'content_id': 'b8SCsQu1iLwU0Rm1'}, {'content_id': 'b8SCsQu1iLwU0Rm1'}, {'content_id': 'b8SCsQu1iLwU0Rm1'}, {'content_id': 'b8SCsQu1iLwU0Rm1'}, {'content_id': 'b8SCsQu1iLwU0Rm1'}, {'content_id': 'b8SCsQu1iLwU0Rm1'}, {'content_id': 'b8SCsQu1iLwU0Rm1'}, {'content_id': 'b8SCsQu1iLwU0Rm1'}, {'content_id': 'b8SCsQu1iLwU0Rm1'}, {'content_id': 'b8SCsQu1iLwU0Rm1'}, {'content_id': 'b8SCsQu1iLwU0Rm1'}, {'content_id': 'b8SCsQu1iLwU0Rm1'}, {'content_id': 'b8SCsQu1iLwU0Rm1'}, {'content_id': 'b8SCsQu1iLwU0Rm1'}, {'content_id': 'b8SCsQu1iLwU0Rm1'}, {'content_id': 'b8SCsQu1iLwU0Rm1'}, {'content_id': 'dGHeFnn1jnFXYXNk'}, {'content_id': 'dGHeFnn1jnFXYXNk'}, {'content_id': 'dGHeFnn1jnFXYXNk'}, {'content_id': 'dGHeFnn1jnFXYXNk'}, {'content_id': 'dGHeFnn1jnFXYXNk'}, {'content_id': 'dGHeFnn1jnFXYXNk'}, {'content_id': 'dGHeFnn1jnFXYXNk'}, {'content_id': 'dGHeFnn1jnFXYXNk'}, {'content_id': 'dGHeFnn1jnFXYXNk'}, {'content_id': 'dGHeFnn1jnFXYXNk'}, {'content_id': 'dGHeFnn1jnFXYXNk'}, {'content_id': 'dGHeFnn1jnFXYXNk'}, {'content_id': 'dGHeFnn1jnFXYXNk'}, {'content_id': 'dGHeFnn1jnFXYXNk'}, {'content_id': 'dGHeFnn1jnFXYXNk'}, {'content_id': 'dGHeFnn1jnFXYXNk'}, {'content_id': 'dGHeFnn1jnFXYXNk'}, {'content_id': 'dGHeFnn1jnFXYXNk'}, {'content_id': 'dGHeFnn1jnFXYXNk'}, {'content_id': 'PuLvFcR2PzxaBvp1'}, {'content_id': 'PuLvFcR2PzxaBvp1'}, {'content_id': 'PuLvFcR2PzxaBvp1'}, {'content_id': 'PuLvFcR2PzxaBvp1'}, {'content_id': 'PuLvFcR2PzxaBvp1'}, {'content_id': 'PuLvFcR2PzxaBvp1'}, {'content_id': 'PuLvFcR2PzxaBvp1'}, {'content_id': 'PuLvFcR2PzxaBvp1'}])"
      ]
     },
     "execution_count": 51,
     "metadata": {},
     "output_type": "execute_result"
    }
   ],
   "source": [
    "client.sql_query(\"select content_id from visualknowledgebase where object_name='boat';\")"
   ]
  },
  {
   "cell_type": "code",
   "execution_count": null,
   "id": "587c98c1-4d67-4b5b-96f6-163b3ad41e96",
   "metadata": {},
   "outputs": [],
   "source": []
  }
 ],
 "metadata": {
  "kernelspec": {
   "display_name": "Python 3 (ipykernel)",
   "language": "python",
   "name": "python3"
  },
  "language_info": {
   "codemirror_mode": {
    "name": "ipython",
    "version": 3
   },
   "file_extension": ".py",
   "mimetype": "text/x-python",
   "name": "python",
   "nbconvert_exporter": "python",
   "pygments_lexer": "ipython3",
   "version": "3.12.2"
  }
 },
 "nbformat": 4,
 "nbformat_minor": 5
}
