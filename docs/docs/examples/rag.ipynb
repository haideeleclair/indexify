{
 "cells": [
  {
   "cell_type": "code",
   "execution_count": 30,
   "id": "c1eb1947-6679-4f17-81e6-edf09645af76",
   "metadata": {},
   "outputs": [
    {
     "name": "stdout",
     "output_type": "stream",
     "text": [
      "\u001b[31mERROR: pip's dependency resolver does not currently take into account all the packages that are installed. This behaviour is the source of the following dependency conflicts.\n",
      "dspy-ai 2.4.5 requires pydantic==2.5.0, but you have pydantic 2.6.4 which is incompatible.\n",
      "instructor 1.2.1 requires pydantic==2.7.0, but you have pydantic 2.6.4 which is incompatible.\n",
      "instructor 1.2.1 requires pydantic-core<3.0.0,>=2.18.0, but you have pydantic-core 2.16.3 which is incompatible.\u001b[0m\u001b[31m\n",
      "\u001b[0mNote: you may need to restart the kernel to use updated packages.\n"
     ]
    }
   ],
   "source": [
    "%pip install --upgrade --quiet  wikipedia langchain_openai"
   ]
  },
  {
   "cell_type": "code",
   "execution_count": 57,
   "id": "7392249d-f498-4a19-9afd-e6652817fa1a",
   "metadata": {},
   "outputs": [],
   "source": [
    "from indexify import IndexifyClient, ExtractionGraph\n",
    "client = IndexifyClient()"
   ]
  },
  {
   "cell_type": "code",
   "execution_count": 58,
   "id": "b08c8ec1-6c44-41ce-8bbc-a87984bdb09e",
   "metadata": {},
   "outputs": [],
   "source": [
    "extraction_graph_spec = \"\"\"\n",
    "name: 'wikipedia-knowledgebase'\n",
    "extraction_policies:\n",
    "   - extractor: 'tensorlake/chunk-extractor'\n",
    "     name: 'chunker'\n",
    "     input_params:\n",
    "        chunk_size: 1000\n",
    "        overlap: 100\n",
    "   - extractor: 'tensorlake/minilm-l6'\n",
    "     name: 'wikiembedding'\n",
    "     content_source: 'chunker'\n",
    "\"\"\"\n",
    "\n",
    "extraction_graph = ExtractionGraph.from_yaml(extraction_graph_spec)\n",
    "client.create_extraction_graph(extraction_graph)                                            "
   ]
  },
  {
   "cell_type": "code",
   "execution_count": 37,
   "id": "1b557954-0112-4cc6-b8b7-0aeecd6bb821",
   "metadata": {},
   "outputs": [],
   "source": [
    "from langchain_community.document_loaders import WikipediaLoader"
   ]
  },
  {
   "cell_type": "code",
   "execution_count": 59,
   "id": "dc34f407-71c1-4298-9e5d-193056402e7b",
   "metadata": {},
   "outputs": [],
   "source": [
    "docs = WikipediaLoader(query=\"Kevin Durant\", load_max_docs=1).load()\n",
    "for doc in docs:\n",
    "    client.add_documents(\"wikipedia-knowledgebase\", doc.page_content)                 "
   ]
  },
  {
   "cell_type": "code",
   "execution_count": 60,
   "id": "63c9016f-70c7-49e8-9bcd-217955f21dd4",
   "metadata": {},
   "outputs": [
    {
     "data": {
      "text/plain": [
       "[{'name': 'wikipedia-extractor.wikiembedding.embedding',\n",
       "  'embedding_schema': {'dim': 384, 'distance': 'cosine'}}]"
      ]
     },
     "execution_count": 60,
     "metadata": {},
     "output_type": "execute_result"
    }
   ],
   "source": [
    "client.indexes()"
   ]
  },
  {
   "cell_type": "code",
   "execution_count": 31,
   "id": "c2985ba7-9bfb-40c3-a9c7-3d10544f48e8",
   "metadata": {},
   "outputs": [],
   "source": [
    "from indexify_langchain import IndexifyRetriever"
   ]
  },
  {
   "cell_type": "code",
   "execution_count": 61,
   "id": "f88f28d1-5118-43a8-831d-e444bd356fbe",
   "metadata": {},
   "outputs": [],
   "source": [
    "params = {\"name\": \"wikipedia-knowledgebase.wikiembedding.embedding\", \"top_k\": 50}\n",
    "retriever = IndexifyRetriever(client=client, params=params)                               \n",
    " "
   ]
  },
  {
   "cell_type": "code",
   "execution_count": 62,
   "id": "27a90930-f111-49eb-8999-9144b58683c4",
   "metadata": {},
   "outputs": [],
   "source": [
    "from langchain_core.output_parsers import StrOutputParser\n",
    "from langchain_core.prompts import ChatPromptTemplate\n",
    "from langchain_core.runnables import RunnablePassthrough\n",
    "from langchain_openai import ChatOpenAI"
   ]
  },
  {
   "cell_type": "code",
   "execution_count": 63,
   "id": "b3186be7-7ef9-4d6c-baa6-78b9a8da15ac",
   "metadata": {},
   "outputs": [],
   "source": [
    "template = \"\"\"Answer the question based only on the following context:\n",
    "{context}\n",
    "\n",
    "Question: {question}\n",
    "\"\"\"\n",
    "prompt = ChatPromptTemplate.from_template(template)\n",
    "\n",
    "model = ChatOpenAI(openai_api_key=\"\")\n",
    "\n",
    "chain = (\n",
    "    {\"context\": retriever, \"question\": RunnablePassthrough()}\n",
    "    | prompt\n",
    "    | model\n",
    "    | StrOutputParser()\n",
    ")\n"
   ]
  },
  {
   "cell_type": "code",
   "execution_count": 64,
   "id": "731b9289-4294-475c-961a-ec1db303b029",
   "metadata": {},
   "outputs": [
    {
     "data": {
      "text/plain": [
       "'Kevin Wayne Durant won his championships in the NBA while playing for the Golden State Warriors in 2017 and 2018.'"
      ]
     },
     "execution_count": 64,
     "metadata": {},
     "output_type": "execute_result"
    }
   ],
   "source": [
    "chain.invoke(\"When and where did Kevin Durant win his championships?\") "
   ]
  }
 ],
 "metadata": {
  "kernelspec": {
   "display_name": "Python 3 (ipykernel)",
   "language": "python",
   "name": "python3"
  },
  "language_info": {
   "codemirror_mode": {
    "name": "ipython",
    "version": 3
   },
   "file_extension": ".py",
   "mimetype": "text/x-python",
   "name": "python",
   "nbconvert_exporter": "python",
   "pygments_lexer": "ipython3",
   "version": "3.12.2"
  }
 },
 "nbformat": 4,
 "nbformat_minor": 5
}
